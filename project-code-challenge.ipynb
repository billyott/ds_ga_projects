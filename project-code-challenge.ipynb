{
 "cells": [
  {
   "cell_type": "markdown",
   "metadata": {},
   "source": [
    "<img src=\"http://imgur.com/1ZcRyrc.png\" style=\"float: left; margin: 20px; height: 55px\">\n",
    "\n",
    "# Project 1: Python Coding Exercises\n",
    "\n",
    "_Authors: Joseph Nelson (DC) _\n",
    "\n",
    "---"
   ]
  },
  {
   "cell_type": "markdown",
   "metadata": {},
   "source": [
    "The following code challenges are drawn from common exercises used in technical interviews.\n",
    "\n",
    "Please note that there may be several ways to approach each challenge. If you get stuck, try mapping out your approach in pseudocode first. Finally, while solutions to problems like these may be found online, remember that if you copy/paste code that you can't explain, you'll be missing out on the point of the project. The only way to truly learn a new skill is through practice, trial, and error - we can only help you improve by understanding where you are having trouble."
   ]
  },
  {
   "cell_type": "markdown",
   "metadata": {},
   "source": [
    "### Challenge 1: Largest Palindrome\n",
    "A palindromic number reads the same both ways. For example, 1234321 is a palindrome. The largest palindrome made from the product of two two-digit numbers is 9009 = 91 × 99. Find the largest palindrome made from the product of two three-digit numbers. Afterward, write a brief explanation walking through your code's logic in markdown."
   ]
  },
  {
   "cell_type": "code",
   "execution_count": 1,
   "metadata": {
    "collapsed": true
   },
   "outputs": [
    {
     "name": "stdout",
     "output_type": "stream",
     "text": [
      "906609\n"
     ]
    }
   ],
   "source": [
    "\"\"\"\n",
    "create an empty list for all palindromes;\n",
    "find all possible products of two three-digit numbers (aka product of all combos between 100 & 999, inclusive);\n",
    "cycle through all of the products of each of the two length possibilities (5 & 6) and figure out which are palindromes via if statements,\n",
    "validating the first one equals the last one, the second equals the second to last, etc.;\n",
    "find the max, aka the largest!\n",
    "\"\"\"\n",
    "\n",
    "palindromes = []\n",
    "\n",
    "for num1 in range(100,1000):\n",
    "    for num2 in range(100,1000):\n",
    "        product = num1 * num2\n",
    "        if len(str(product)) == 5:\n",
    "            if str(product)[0] == str(product)[4]:\n",
    "                if str(product)[1] == str(product)[3]:\n",
    "                    palindromes.append(product)\n",
    "        if len(str(product)) == 6:\n",
    "            if str(product)[0] == str(product)[5]:\n",
    "                if str(product)[1] == str(product)[4]:\n",
    "                    if str(product)[2] == str(product)[3]:\n",
    "                        palindromes.append(product)\n",
    "\n",
    "print(max(palindromes))"
   ]
  },
  {
   "cell_type": "markdown",
   "metadata": {},
   "source": [
    "\n",
    "### Challenge 2: Summation of Primes\n",
    "The sum of the primes below 10 is 2 + 3 + 5 + 7 = 17. Find the sum of all the primes below 2,000. Afterward, write a brief explanation walking through your code's logic in markdown."
   ]
  },
  {
   "cell_type": "code",
   "execution_count": 2,
   "metadata": {
    "collapsed": true
   },
   "outputs": [
    {
     "name": "stdout",
     "output_type": "stream",
     "text": [
      "277050\n"
     ]
    }
   ],
   "source": [
    "\"\"\"\n",
    "create an empty list where the primes will be stored;\n",
    "iterate through all possible primes up to 2000; add them to the list (even if they're not prime);\n",
    "check modulus of each number between 2 up to that number with a second for loop; if mod = 0, then it means it's not prime \n",
    "(aka it was divisible by something other than 1 or itself) and then it's removed from our list and the loop breaks\n",
    "\"\"\"\n",
    "\n",
    "primes2000 = []\n",
    "\n",
    "for num in range(2,2001):\n",
    "    primes2000.append(num)\n",
    "    for i in range (2,num):\n",
    "        if num % i == 0:\n",
    "            primes2000.remove(num)\n",
    "            break\n",
    "            \n",
    "print(sum(primes2000))"
   ]
  },
  {
   "cell_type": "markdown",
   "metadata": {},
   "source": [
    "### Challenge 3: Multiples of 3 and 5\n",
    "If we list all of the natural numbers below 10 that are multiples of 3 or 5, we get 3, 5, 6, and 9. The sum of these multiples is 23. Find the sum of all the multiples of 3 and 5 below 1,000. Afterward, write a brief explanation walking through your code's logic in markdown."
   ]
  },
  {
   "cell_type": "code",
   "execution_count": 12,
   "metadata": {
    "collapsed": true
   },
   "outputs": [
    {
     "name": "stdout",
     "output_type": "stream",
     "text": [
      "233168\n"
     ]
    }
   ],
   "source": [
    "\"\"\"\n",
    "create an empty list where the multiples will be stored; iterate through all numbers 1000; \n",
    "check to see if they are multiples of either 3 or 5 by checking mod 3 or mod 5 = 0;\n",
    "if true, append the number to the list we created; print the sum of all elements in the list\n",
    "\"\"\"\n",
    "\n",
    "multiples_3_5 = []\n",
    "\n",
    "for num in range(0,1000):\n",
    "    if num % 3 == 0 or num % 5 == 0:\n",
    "        multiples_3_5.append(num)\n",
    "\n",
    "print(sum(multiples_3_5))"
   ]
  },
  {
   "cell_type": "markdown",
   "metadata": {},
   "source": [
    "### Challenge 4: String Compressor\n",
    "Implement a method to perform basic string compression using the counts of repeated characters. (This is called run-length encoding.) For example, the string \"aabcccccaaa\" would become a2b1c5a3. If the “compressed” string would not become smaller than the original string, your method should return the original string. You can assume the string has only uppercase and lowercase letters (a–z). Specify whether your solution is case sensitive or case insensitive and what you would need to change to make it the other. Afterward, write a brief explanation walking through your code's logic in markdown."
   ]
  },
  {
   "cell_type": "code",
   "execution_count": 4,
   "metadata": {
    "collapsed": true
   },
   "outputs": [
    {
     "name": "stdout",
     "output_type": "stream",
     "text": [
      "a2b1c5a3\n",
      "aabcd\n"
     ]
    }
   ],
   "source": [
    "\"\"\"\n",
    "def function that takes in a string; first, create a new variable called \"working_string\" \n",
    "that adds a special character to the end of your string; this allows you to iterate through everything,\n",
    "evaluating what the previous character is, while still allowing to print for the last character in your\n",
    "original string;\n",
    "create an empty string where your compressed output will be housed;\n",
    "create a counter to keep track of the frequency;\n",
    "start a for loop to iterate through your new working string - if the last char is equal to the current\n",
    "char, then counter increases by 1; once that stops being true, as long as the last char isn't blank \n",
    "(aka the first char), you add the last char + the counter to the empty string; \n",
    "finally, the last char variable is updated to = char; finish it off with a print statement. \n",
    "This is not eloquent code, but hey - it works.\n",
    "\"\"\"\n",
    "\n",
    "\"\"\"\n",
    "ABOUT CASE SENSITIVITY: this function is indeed case sensitive, so if you wanted handle for that, \n",
    "you could easily modify \"working string\" to be string.lower()/string.upper() depending on how you want your output formatted.\n",
    "\"\"\"\n",
    "\n",
    "def compress(string):\n",
    "    if string[-1] == \"@\":\n",
    "        working_string = string+\"&\"\n",
    "    else:\n",
    "        working_string = string+\"@\"\n",
    "    compressed_string = \"\"\n",
    "    counter = 1\n",
    "\n",
    "    for i in range(len(working_string)-1):\n",
    "        if working_string[i] == working_string[i+1]:\n",
    "            counter += 1\n",
    "        else:\n",
    "            compressed_string += working_string[i]+str(counter)\n",
    "            counter = 1\n",
    "    if len(compressed_string) < len(string):\n",
    "        print(compressed_string)\n",
    "    else:\n",
    "        print(string)\n",
    "        \n",
    "compress(\"aabcccccaaa\")\n",
    "compress(\"aabcd\")"
   ]
  },
  {
   "cell_type": "markdown",
   "metadata": {},
   "source": [
    "### *BONUS* Challenge: FizzBuzz\n",
    "\n",
    "Write a program that prints all of the numbers from 1 to 100. For multiples of 3, instead of the number, print \"Fizz;\" for multiples of 5, print \"Buzz.\" For numbers that are multiples of both 3 and 5, print \"FizzBuzz.\" Afterward, write a brief explanation walking through your code's logic in markdown."
   ]
  },
  {
   "cell_type": "code",
   "execution_count": 5,
   "metadata": {
    "collapsed": true
   },
   "outputs": [
    {
     "name": "stdout",
     "output_type": "stream",
     "text": [
      "1\n",
      "2\n",
      "Fizz\n",
      "4\n",
      "Buzz\n",
      "Fizz\n",
      "7\n",
      "8\n",
      "Fizz\n",
      "Buzz\n",
      "11\n",
      "Fizz\n",
      "13\n",
      "14\n",
      "FizzBuzz\n",
      "16\n",
      "17\n",
      "Fizz\n",
      "19\n",
      "Buzz\n",
      "Fizz\n",
      "22\n",
      "23\n",
      "Fizz\n",
      "Buzz\n",
      "26\n",
      "Fizz\n",
      "28\n",
      "29\n",
      "FizzBuzz\n",
      "31\n",
      "32\n",
      "Fizz\n",
      "34\n",
      "Buzz\n",
      "Fizz\n",
      "37\n",
      "38\n",
      "Fizz\n",
      "Buzz\n",
      "41\n",
      "Fizz\n",
      "43\n",
      "44\n",
      "FizzBuzz\n",
      "46\n",
      "47\n",
      "Fizz\n",
      "49\n",
      "Buzz\n",
      "Fizz\n",
      "52\n",
      "53\n",
      "Fizz\n",
      "Buzz\n",
      "56\n",
      "Fizz\n",
      "58\n",
      "59\n",
      "FizzBuzz\n",
      "61\n",
      "62\n",
      "Fizz\n",
      "64\n",
      "Buzz\n",
      "Fizz\n",
      "67\n",
      "68\n",
      "Fizz\n",
      "Buzz\n",
      "71\n",
      "Fizz\n",
      "73\n",
      "74\n",
      "FizzBuzz\n",
      "76\n",
      "77\n",
      "Fizz\n",
      "79\n",
      "Buzz\n",
      "Fizz\n",
      "82\n",
      "83\n",
      "Fizz\n",
      "Buzz\n",
      "86\n",
      "Fizz\n",
      "88\n",
      "89\n",
      "FizzBuzz\n",
      "91\n",
      "92\n",
      "Fizz\n",
      "94\n",
      "Buzz\n",
      "Fizz\n",
      "97\n",
      "98\n",
      "Fizz\n",
      "Buzz\n"
     ]
    }
   ],
   "source": [
    "\"\"\"\n",
    "start by iterating through all numbers in range 1 - 101; add conditions for the three exceptions - if multiple of both 3 & 5,\n",
    "print 'FizzBuzz'; if multiple of just 5, print 'Buzz', if multiple of 3, print 'Fizz'; print the num if none of these apply\n",
    "\"\"\"\n",
    "\n",
    "for num in range(1,101):\n",
    "    if num % 3 == 0 and num % 5 == 0:\n",
    "        print(\"FizzBuzz\")\n",
    "    elif num % 5 == 0:\n",
    "        print(\"Buzz\")\n",
    "    elif num % 3 == 0:\n",
    "        print(\"Fizz\")\n",
    "    else:\n",
    "        print(num)\n"
   ]
  }
 ],
 "metadata": {
  "anaconda-cloud": {},
  "kernelspec": {
   "display_name": "Python 3",
   "language": "python",
   "name": "python3"
  },
  "language_info": {
   "codemirror_mode": {
    "name": "ipython",
    "version": 3
   },
   "file_extension": ".py",
   "mimetype": "text/x-python",
   "name": "python",
   "nbconvert_exporter": "python",
   "pygments_lexer": "ipython3",
   "version": "3.6.6"
  }
 },
 "nbformat": 4,
 "nbformat_minor": 2
}
