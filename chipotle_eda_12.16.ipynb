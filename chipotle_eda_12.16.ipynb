{
 "cells": [
  {
   "cell_type": "markdown",
   "metadata": {},
   "source": [
    "# Project 2: Analyzing Chipotle Data\n",
    "\n",
    "_Author: Joseph Nelson (DC)_\n",
    "\n",
    "_Answers: Bill Ott_"
   ]
  },
  {
   "cell_type": "markdown",
   "metadata": {},
   "source": [
    "\n",
    "For Project 2, you will complete a series of exercises exploring __[order data from Chipotle](https://github.com/TheUpshot/chipotle)__, compliments of The New York Times' \"The Upshot.\"\n",
    "\n",
    "For these exercises, you will conduct basic exploratory data analysis (Pandas not required) to understand the essentials of Chipotle's order data: how many orders are being made, the average price per order, how many different ingredients are used, etc. These allow you to practice business analysis skills while also becoming comfortable with Python."
   ]
  },
  {
   "cell_type": "code",
   "execution_count": 1,
   "metadata": {},
   "outputs": [],
   "source": [
    "#importing needed libraries\n",
    "import csv\n",
    "import pandas as pd"
   ]
  },
  {
   "cell_type": "markdown",
   "metadata": {},
   "source": [
    "## Basic Level"
   ]
  },
  {
   "cell_type": "markdown",
   "metadata": {},
   "source": [
    "### Part 1: Read in the file with csv.reader() and store it in an object called file_nested_list."
   ]
  },
  {
   "cell_type": "code",
   "execution_count": 2,
   "metadata": {},
   "outputs": [],
   "source": [
    "#find the tsv, open it\n",
    "with open('./chipotle.tsv') as tsv:\n",
    "    \n",
    "    #emtpy list where the data will be stored\n",
    "    chipotle_raw = []\n",
    "    \n",
    "    #create the file_nest_list object using csv reader using tab as delimiter\n",
    "    file_nested_list = csv.reader(tsv, delimiter=\"\\t\")\n",
    "    \n",
    "    #iterate through each row in the object and append to our empty list\n",
    "    for row in file_nested_list:\n",
    "        chipotle_raw.append(row)"
   ]
  },
  {
   "cell_type": "markdown",
   "metadata": {},
   "source": [
    "### Part 2: Separate file_nested_list into the header and the data."
   ]
  },
  {
   "cell_type": "code",
   "execution_count": 3,
   "metadata": {},
   "outputs": [],
   "source": [
    "#create variables for both the header and the data, both of which are stored in our list\n",
    "chipotle_header = chipotle_raw[0]\n",
    "chipotle_data = chipotle_raw[1:]"
   ]
  },
  {
   "cell_type": "code",
   "execution_count": 4,
   "metadata": {},
   "outputs": [],
   "source": [
    "#create a dataframe from the two new variables (to more easily perform analyses below)\n",
    "chipotle_df = pd.DataFrame(chipotle_data, columns=chipotle_header)\n",
    "\n",
    "#clean up and type cast the numeric columns\n",
    "chipotle_df['item_price'] = chipotle_df['item_price'].str.replace('$','')\n",
    "chipotle_df['item_price'] = chipotle_df['item_price'].astype(float)\n",
    "chipotle_df['quantity'] = chipotle_df['quantity'].astype(int)"
   ]
  },
  {
   "cell_type": "markdown",
   "metadata": {},
   "source": [
    "## Intermediate Level"
   ]
  },
  {
   "cell_type": "markdown",
   "metadata": {},
   "source": [
    "### Part 3: Calculate the average price of an order."
   ]
  },
  {
   "cell_type": "code",
   "execution_count": 5,
   "metadata": {},
   "outputs": [
    {
     "data": {
      "text/plain": [
       "order_total    18.811429\n",
       "dtype: float64"
      ]
     },
     "execution_count": 5,
     "metadata": {},
     "output_type": "execute_result"
    }
   ],
   "source": [
    "#subset data to just order_id & item_price, groupby the order_id, sum the item_price\n",
    "order_total = chipotle_df.groupby('order_id')['item_price'].agg(['sum']).rename(columns={'sum':'order_total'})\n",
    "\n",
    "#calculate the average order_total\n",
    "order_total.mean()"
   ]
  },
  {
   "cell_type": "markdown",
   "metadata": {},
   "source": [
    "### Part 4: Create a list (or set) named unique_sodas containing all of unique sodas and soft drinks that Chipotle sells."
   ]
  },
  {
   "cell_type": "code",
   "execution_count": 6,
   "metadata": {},
   "outputs": [
    {
     "data": {
      "text/plain": [
       "['Sprite',\n",
       " 'Dr. Pepper',\n",
       " 'Mountain Dew',\n",
       " 'Diet Dr. Pepper',\n",
       " 'Coca Cola',\n",
       " 'Diet Coke',\n",
       " 'Coke',\n",
       " 'Lemonade',\n",
       " 'Nestea']"
      ]
     },
     "execution_count": 6,
     "metadata": {},
     "output_type": "execute_result"
    }
   ],
   "source": [
    "#subset data to just item_name that are soda\n",
    "soda_series = chipotle_df[(chipotle_df['item_name'] == 'Canned Soda')\n",
    "            |(chipotle_df['item_name'] == 'Canned Soft Drink')\n",
    "            |(chipotle_df['item_name'] == '6 Pack Soft Drink')]\n",
    "\n",
    "#create list of unique choice_description (aka all the sodas)\n",
    "sodas = list(soda_series['choice_description'].unique())\n",
    "\n",
    "#clean up the names in the list for readability\n",
    "sodas = [soda.replace('[','') for soda in sodas]\n",
    "sodas = [soda.replace(']','') for soda in sodas]\n",
    "\n",
    "#sodas!\n",
    "sodas"
   ]
  },
  {
   "cell_type": "markdown",
   "metadata": {},
   "source": [
    "## Advanced Level"
   ]
  },
  {
   "cell_type": "markdown",
   "metadata": {},
   "source": [
    "### Part 5: Calculate the average number of toppings per burrito."
   ]
  },
  {
   "cell_type": "code",
   "execution_count": 7,
   "metadata": {},
   "outputs": [
    {
     "data": {
      "text/plain": [
       "5.395051194539249"
      ]
     },
     "execution_count": 7,
     "metadata": {},
     "output_type": "execute_result"
    }
   ],
   "source": [
    "#create a new df from subset containing only item_name that have 'Burrito'\n",
    "burritos_df = pd.DataFrame(chipotle_df[chipotle_df['item_name'].str.contains('Burrito')])\n",
    "\n",
    "#create a new column for the ingredients in the burritos + clean up the strings\n",
    "burritos_df['ingredients'] = burritos_df['choice_description'].str.replace('[','')\n",
    "burritos_df['ingredients'] = burritos_df['ingredients'].str.replace(']','')\n",
    "burritos_df['ingredients'] = burritos_df['ingredients'].str.replace(', ',',')\n",
    "\n",
    "#change ingredients from a string to a list of strings containing each ingredient\n",
    "burritos_df['ingredients'] = burritos_df['ingredients'].str.split(\",\",n=-1,expand = False)\n",
    "\n",
    "#add a new column for the number of ingredients (just in case we want to use this later)\n",
    "burritos_df['ingredient_count'] = burritos_df['ingredients'].str.len()\n",
    "\n",
    "#calculate the average toppings per burrito\n",
    "burritos_df['ingredient_count'].mean()"
   ]
  },
  {
   "cell_type": "markdown",
   "metadata": {},
   "source": [
    "### Part 6: Create a dictionary. Let the keys represent chip orders and the values represent the total number of orders."
   ]
  },
  {
   "cell_type": "code",
   "execution_count": 8,
   "metadata": {},
   "outputs": [
    {
     "data": {
      "text/plain": [
       "{'Chips and Guacamole': 506,\n",
       " 'Chips': 230,\n",
       " 'Chips and Fresh Tomato Salsa': 130,\n",
       " 'Side of Chips': 110,\n",
       " 'Chips and Tomatillo-Green Chili Salsa': 78,\n",
       " 'Chips and Tomatillo-Red Chili Salsa': 75,\n",
       " 'Chips and Roasted Chili-Corn Salsa': 41,\n",
       " 'Chips and Mild Fresh Tomato Salsa': 1}"
      ]
     },
     "execution_count": 8,
     "metadata": {},
     "output_type": "execute_result"
    }
   ],
   "source": [
    "#create a new df from subset containing only item_name that have 'Chips'\n",
    "chips_df = pd.DataFrame(chipotle_df[chipotle_df['item_name'].str.contains('Chips')])\n",
    "\n",
    "#clean up string values in item_name\n",
    "'''\n",
    "NOTE: doing this will naturally affect the sum of 'quantity' (but it's more accurate, so w/e)\n",
    "'''\n",
    "chips_df['item_name'] = chips_df['item_name'].str.replace('Chili Corn','Chili-Corn')\n",
    "chips_df['item_name'] = chips_df['item_name'].str.replace('Tomatillo ','Tomatillo-')\n",
    "\n",
    "#change the quantity type from str to int\n",
    "chips_df['quantity'] = chips_df['quantity'].astype(int)\n",
    "\n",
    "#create a dictionary with the chip item_name and quantity\n",
    "chip_orders = chips_df.groupby('item_name')['quantity'].sum().sort_values(ascending=False).to_dict()\n",
    "chip_orders"
   ]
  },
  {
   "cell_type": "markdown",
   "metadata": {},
   "source": [
    "## Bonus: Craft a problem statement about this data that interests you, and then answer it!"
   ]
  },
  {
   "cell_type": "markdown",
   "metadata": {},
   "source": [
    "### What percentage of mains (not sides or drinks) are ordered with guacamole?"
   ]
  },
  {
   "cell_type": "code",
   "execution_count": 9,
   "metadata": {
    "scrolled": true
   },
   "outputs": [
    {
     "name": "stdout",
     "output_type": "stream",
     "text": [
      "Guac is present 36% of mains ordered.\n"
     ]
    }
   ],
   "source": [
    "#define a function that categorizes each item so we can distinguish the mains\n",
    "'''\n",
    "to write the conditions in this function, I had to look at all of the unique values for 'item_name' \n",
    "and decide what patterns to utilize.\n",
    "'''\n",
    "def item_cat(df):\n",
    "    if 'Burrito' in df['item_name']:\n",
    "        cat = 'main'\n",
    "    elif 'Taco' in df['item_name']:\n",
    "        cat = 'main'\n",
    "    elif 'Salad' in df['item_name']:\n",
    "        cat = 'main'\n",
    "    elif 'Bowl' in df['item_name']:\n",
    "        cat = 'main'\n",
    "    elif 'Chips' in df['item_name']:\n",
    "        cat = 'side'\n",
    "    else:\n",
    "        cat = 'drink'\n",
    "    return cat\n",
    "\n",
    "#apply that function to the df and add the return value as a new item category column\n",
    "chipotle_df['item_cat'] = chipotle_df.apply(item_cat,axis=1)\n",
    "\n",
    "#create a new ingredients column, just like we did with the burrito_df, but leaving it a string\n",
    "chipotle_df['ingredients'] = chipotle_df['choice_description'].str.replace('[','')\n",
    "chipotle_df['ingredients'] = chipotle_df['ingredients'].str.replace(']','')\n",
    "chipotle_df['ingredients'] = chipotle_df['ingredients'].str.replace(', ',',')\n",
    "\n",
    "#add a new column to see if guacamole is present in order\n",
    "chipotle_df.loc[(chipotle_df['ingredients'].str.contains('Guacamole')),'guac_present'] = 1\n",
    "chipotle_df['guac_present'].fillna(0, inplace=True)\n",
    "\n",
    "#create subset that only looks at mains and mains with guac\n",
    "mains = chipotle_df[chipotle_df['item_cat'] == 'main']\n",
    "mains_guac_present = mains[mains['guac_present'] == 1]\n",
    "\n",
    "#quantify the base components, calculate the percentage\n",
    "num_mains = mains['quantity'].sum()\n",
    "num_mains_guac_present = mains_guac_present['quantity'].sum()\n",
    "guac_percentage = (num_mains_guac_present/num_mains)\n",
    "\n",
    "#finish this off with a neatly written print statement\n",
    "print(\"Guac is present \"+\"{:.0%} of mains ordered.\".format(guac_percentage))"
   ]
  }
 ],
 "metadata": {
  "kernelspec": {
   "display_name": "Python 3",
   "language": "python",
   "name": "python3"
  },
  "language_info": {
   "codemirror_mode": {
    "name": "ipython",
    "version": 3
   },
   "file_extension": ".py",
   "mimetype": "text/x-python",
   "name": "python",
   "nbconvert_exporter": "python",
   "pygments_lexer": "ipython3",
   "version": "3.6.6"
  }
 },
 "nbformat": 4,
 "nbformat_minor": 2
}
